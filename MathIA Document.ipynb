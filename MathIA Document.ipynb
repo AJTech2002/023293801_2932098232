{
  "nbformat": 4,
  "nbformat_minor": 0,
  "metadata": {
    "colab": {
      "name": "Untitled0.ipynb",
      "provenance": [],
      "collapsed_sections": [],
      "authorship_tag": "ABX9TyPiz38Tc+kvmmOggfkN6dpk",
      "include_colab_link": true
    },
    "kernelspec": {
      "name": "python3",
      "display_name": "Python 3"
    }
  },
  "cells": [
    {
      "cell_type": "markdown",
      "metadata": {
        "id": "view-in-github",
        "colab_type": "text"
      },
      "source": [
        "<a href=\"https://colab.research.google.com/github/AJTech2002/023293801_2932098232/blob/master/MathIA%20Document.ipynb\" target=\"_parent\"><img src=\"https://colab.research.google.com/assets/colab-badge.svg\" alt=\"Open In Colab\"/></a>"
      ]
    },
    {
      "cell_type": "code",
      "metadata": {
        "id": "wHPJXSjrTTHJ",
        "colab_type": "code",
        "colab": {}
      },
      "source": [
        "import numpy\n",
        "import matplotlib.pyplot as plt\n",
        "\n",
        "from matplotlib.animation import FuncAnimation\n",
        "\n",
        "from mpl_toolkits.mplot3d import Axes3D\n",
        "\n",
        "from matplotlib import cm\n",
        "from matplotlib.ticker import LinearLocator, FormatStrFormatter\n",
        "\n"
      ],
      "execution_count": 0,
      "outputs": []
    },
    {
      "cell_type": "code",
      "metadata": {
        "id": "Q0r6Ph1nU5rL",
        "colab_type": "code",
        "outputId": "80f2a833-084e-4e48-ac94-17d947ac6f77",
        "colab": {
          "base_uri": "https://localhost:8080/",
          "height": 1000
        }
      },
      "source": [
        "\n",
        "inputOutputPair = [[20,88.6],[16,17.6],[19.8,93.3],[18.4,84.3],[17.1,80.6],[15.5,75.2],[14.7,69.7],[17.1,82],[15.4,69.4],[16.2,83.3],[15,79.6],[17.2,82.6],[16,80.6],[17,83.5],[14.4,76.3]]\n",
        "inputs = [20,16,19.8,18.4,17.1,15.5,14.7,17.1,15.4,16.2,15,17.2,16,17,14.4]\n",
        "outputs = [88.6,71.6,93.3,84.3,80.6,75.2,69.7,82,69.4,83.3,79.6,82.6,80.6,83.5,76.3]\n",
        "\n",
        "plt.scatter(inputs,outputs)\n",
        "\n",
        "def randNumber (scale):\n",
        "  return numpy.random.rand()*scale\n",
        "\n",
        "\n",
        "# Bias\n",
        "b0 = randNumber(20)\n",
        "# Weight 1\n",
        "b1 = randNumber(20)\n",
        "\n",
        "def predict (b00, b11, inputs):\n",
        "\n",
        "  values = [0]*len(inputs)\n",
        "  x = -1\n",
        "  for i in inputs: \n",
        "    x = x+1\n",
        "    values[x] = i*b11 + b00\n",
        "  return values\n",
        "\n",
        "def fix (b0,b1,inputs,expected,predicted):\n",
        "  newb0 = b0\n",
        "  newb1 = b1\n",
        "\n",
        "  x = -1\n",
        "  b0Change = 0\n",
        "  b1Change = 0\n",
        "  for i in inputs: \n",
        "    x = x+1\n",
        "    change = (-expected[x]+predicted[x])\n",
        "    b0Change = b0Change + change\n",
        "    b1Change = b1Change + change * inputs[x]\n",
        "  \n",
        "  b0Change = b0Change/(2*x)\n",
        "  b1Change = b1Change/(2*x)\n",
        "  \n",
        "  newb0 -= b0Change*0.001\n",
        "  newb1 -= b1Change*0.001\n",
        "\n",
        "  return newb0, newb1\n",
        "\n",
        "\n",
        "\n",
        "\n",
        "globalPred = []\n",
        "errorOverTime = [0] * 100\n",
        "iV =[0] * 100 \n",
        "for i in range(0,100):\n",
        "  globalPred = predict(b0,b1,inputs)\n",
        "  iV[i] = i\n",
        "  b0, b1 = fix(b0,b1,inputs,outputs,globalPred)\n",
        "\n",
        "  error = errorPrediction(globalPred, outputs, inputs)\n",
        "  errorOverTime[i] = error\n",
        "\n",
        "  #if (error < 10):\n",
        "  #  print (\"Found at : \" + str(error) + \" => at \" +  str(i) + \"th iteration\")\n",
        "  #  break;\n",
        "\n",
        "  ##if (i % 20 == 0):\n",
        "  ##  plt.plot(inputs, predict(b0,b1,inputs))\n",
        "\n",
        "plt.plot(inputs, predict(b0,b1,inputs))\n",
        "\n",
        "fig3 = plt.figure()\n",
        "ax3 = plt.axes()\n",
        "\n",
        "ax3.plot(iV, errorOverTime)\n",
        "\n",
        "minError = errorPrediction(globalPred, outputs, inputs)\n",
        "\n",
        "def errorPrediction (prediction, expected, inputs):\n",
        "  x = -1\n",
        "  errorSum = 0\n",
        "  for p in prediction: \n",
        "    x = x+1\n",
        "    errorSum = errorSum + (expected[x]-p)*(expected[x]-p)\n",
        "  errorSum = errorSum / (x*2)\n",
        "\n",
        "  return errorSum\n",
        "\n",
        "# X = b1 Y = b0\n",
        "def f(xs, ys):\n",
        "  p = predict(xs,ys, inputs)\n",
        "  e = errorPrediction(p,outputs,inputs)\n",
        "\n",
        "resultingErrors = [0]*400\n",
        "inputWeight = [0]*400\n",
        "\n",
        "x = -1\n",
        "for y in range(-200, 200):\n",
        "  x = x+1 \n",
        "  inputWeight[x] = y\n",
        "  resultingErrors[x] = errorPrediction(predict(b0,y,inputs),outputs,inputs)\n",
        "\n",
        "\n",
        "fig = plt.figure()\n",
        "ax = plt.axes()\n",
        "\n",
        "ax.plot(inputWeight, resultingErrors)\n",
        "ax.scatter([b1],minError)\n",
        "\n",
        "\n",
        "resultingErrors = [0]*400\n",
        "inputWeight = [0]*400\n",
        "\n",
        "x = -1\n",
        "for y in range(-200, 200):\n",
        "  x = x+1 \n",
        "  inputWeight[x] = y\n",
        "  resultingErrors[x] = errorPrediction(predict(y,b1,inputs),outputs,inputs)\n",
        "\n",
        "fig2 = plt.figure()\n",
        "ax2 = plt.axes()\n",
        "\n",
        "ax2.plot(inputWeight, resultingErrors)\n",
        "ax2.scatter([b0],minError)\n"
      ],
      "execution_count": 83,
      "outputs": [
        {
          "output_type": "execute_result",
          "data": {
            "text/plain": [
              "<matplotlib.collections.PathCollection at 0x7f58ddb12b00>"
            ]
          },
          "metadata": {
            "tags": []
          },
          "execution_count": 83
        },
        {
          "output_type": "display_data",
          "data": {
            "image/png": "[encoded data removed]",
            "text/plain": [
              "<Figure size 432x288 with 1 Axes>"
            ]
          },
          "metadata": {
            "tags": [],
            "needs_background": "light"
          }
        },
        {
          "output_type": "display_data",
          "data": {
            "image/png": "[encoded data removed]",
            "text/plain": [
              "<Figure size 432x288 with 1 Axes>"
            ]
          },
          "metadata": {
            "tags": [],
            "needs_background": "light"
          }
        },
        {
          "output_type": "display_data",
          "data": {
            "image/png": "[encoded data removed]",
            "text/plain": [
              "<Figure size 432x288 with 1 Axes>"
            ]
          },
          "metadata": {
            "tags": [],
            "needs_background": "light"
          }
        },
        {
          "output_type": "display_data",
          "data": {
            "image/png": "[encoded data removed]",
            "text/plain": [
              "<Figure size 432x288 with 1 Axes>"
            ]
          },
          "metadata": {
            "tags": [],
            "needs_background": "light"
          }
        }
      ]
    },
    {
      "cell_type": "code",
      "metadata": {
        "id": "UeFunxdNuJKe",
        "colab_type": "code",
        "colab": {}
      },
      "source": [
        ""
      ],
      "execution_count": 0,
      "outputs": []
    },
    {
      "cell_type": "code",
      "metadata": {
        "id": "r0b2JiCYTVQb",
        "colab_type": "code",
        "colab": {}
      },
      "source": [
        ""
      ],
      "execution_count": 0,
      "outputs": []
    },
    {
      "cell_type": "code",
      "metadata": {
        "id": "fkGOc8uz4nAc",
        "colab_type": "code",
        "colab": {}
      },
      "source": [
        ""
      ],
      "execution_count": 0,
      "outputs": []
    },
    {
      "cell_type": "code",
      "metadata": {
        "id": "hEuWeyiFvqKV",
        "colab_type": "code",
        "colab": {}
      },
      "source": [
        ""
      ],
      "execution_count": 0,
      "outputs": []
    }
  ]
}